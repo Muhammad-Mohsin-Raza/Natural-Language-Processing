{
 "cells": [
  {
   "cell_type": "code",
   "execution_count": 4,
   "id": "6075ba31",
   "metadata": {},
   "outputs": [],
   "source": [
    "data = open('dataset-CalheirosMoroRita-2017.csv',encoding='ISO-8859-1').read()"
   ]
  },
  {
   "cell_type": "code",
   "execution_count": 5,
   "id": "7d46e6dd",
   "metadata": {},
   "outputs": [],
   "source": [
    "# data.split('\\n')"
   ]
  },
  {
   "cell_type": "code",
   "execution_count": 6,
   "id": "ab347e83",
   "metadata": {},
   "outputs": [],
   "source": [
    "data = data.split('\\n')"
   ]
  },
  {
   "cell_type": "code",
   "execution_count": 7,
   "id": "2b09bc29",
   "metadata": {},
   "outputs": [
    {
     "data": {
      "text/plain": [
       "'I will be happy to do an event or come back to you with my family again.        \"'"
      ]
     },
     "execution_count": 7,
     "metadata": {},
     "output_type": "execute_result"
    }
   ],
   "source": [
    "data[-2]"
   ]
  },
  {
   "cell_type": "code",
   "execution_count": 8,
   "id": "691e2574",
   "metadata": {},
   "outputs": [],
   "source": [
    "from sklearn.feature_extraction.text import CountVectorizer"
   ]
  },
  {
   "cell_type": "code",
   "execution_count": 9,
   "id": "faa04781",
   "metadata": {},
   "outputs": [],
   "source": [
    "vec = CountVectorizer(stop_words='english',max_features=20)"
   ]
  },
  {
   "cell_type": "code",
   "execution_count": 10,
   "id": "e56a73ad",
   "metadata": {},
   "outputs": [
    {
     "data": {
      "text/plain": [
       "<653x20 sparse matrix of type '<class 'numpy.int64'>'\n",
       "\twith 1474 stored elements in Compressed Sparse Row format>"
      ]
     },
     "execution_count": 10,
     "metadata": {},
     "output_type": "execute_result"
    }
   ],
   "source": [
    "X = vec.fit_transform(data)\n",
    "X"
   ]
  },
  {
   "cell_type": "code",
   "execution_count": 11,
   "id": "d8657bcf",
   "metadata": {},
   "outputs": [],
   "source": [
    "# makes array with count of tokens\n",
    "m=X.toarray()\n"
   ]
  },
  {
   "cell_type": "code",
   "execution_count": 12,
   "id": "8c773d0e",
   "metadata": {},
   "outputs": [
    {
     "data": {
      "text/html": [
       "<div>\n",
       "<style scoped>\n",
       "    .dataframe tbody tr th:only-of-type {\n",
       "        vertical-align: middle;\n",
       "    }\n",
       "\n",
       "    .dataframe tbody tr th {\n",
       "        vertical-align: top;\n",
       "    }\n",
       "\n",
       "    .dataframe thead th {\n",
       "        text-align: right;\n",
       "    }\n",
       "</style>\n",
       "<table border=\"1\" class=\"dataframe\">\n",
       "  <thead>\n",
       "    <tr style=\"text-align: right;\">\n",
       "      <th></th>\n",
       "      <th>0</th>\n",
       "      <th>1</th>\n",
       "      <th>2</th>\n",
       "      <th>3</th>\n",
       "      <th>4</th>\n",
       "      <th>5</th>\n",
       "      <th>6</th>\n",
       "      <th>7</th>\n",
       "      <th>8</th>\n",
       "      <th>9</th>\n",
       "      <th>10</th>\n",
       "      <th>11</th>\n",
       "      <th>12</th>\n",
       "      <th>13</th>\n",
       "      <th>14</th>\n",
       "      <th>15</th>\n",
       "      <th>16</th>\n",
       "      <th>17</th>\n",
       "      <th>18</th>\n",
       "      <th>19</th>\n",
       "    </tr>\n",
       "  </thead>\n",
       "  <tbody>\n",
       "    <tr>\n",
       "      <th>0</th>\n",
       "      <td>0</td>\n",
       "      <td>0</td>\n",
       "      <td>0</td>\n",
       "      <td>0</td>\n",
       "      <td>0</td>\n",
       "      <td>0</td>\n",
       "      <td>0</td>\n",
       "      <td>0</td>\n",
       "      <td>0</td>\n",
       "      <td>0</td>\n",
       "      <td>0</td>\n",
       "      <td>0</td>\n",
       "      <td>0</td>\n",
       "      <td>0</td>\n",
       "      <td>0</td>\n",
       "      <td>0</td>\n",
       "      <td>0</td>\n",
       "      <td>0</td>\n",
       "      <td>0</td>\n",
       "      <td>0</td>\n",
       "    </tr>\n",
       "    <tr>\n",
       "      <th>1</th>\n",
       "      <td>0</td>\n",
       "      <td>0</td>\n",
       "      <td>0</td>\n",
       "      <td>0</td>\n",
       "      <td>0</td>\n",
       "      <td>0</td>\n",
       "      <td>1</td>\n",
       "      <td>0</td>\n",
       "      <td>0</td>\n",
       "      <td>0</td>\n",
       "      <td>0</td>\n",
       "      <td>0</td>\n",
       "      <td>0</td>\n",
       "      <td>0</td>\n",
       "      <td>0</td>\n",
       "      <td>1</td>\n",
       "      <td>0</td>\n",
       "      <td>0</td>\n",
       "      <td>0</td>\n",
       "      <td>0</td>\n",
       "    </tr>\n",
       "    <tr>\n",
       "      <th>2</th>\n",
       "      <td>0</td>\n",
       "      <td>0</td>\n",
       "      <td>0</td>\n",
       "      <td>0</td>\n",
       "      <td>0</td>\n",
       "      <td>1</td>\n",
       "      <td>0</td>\n",
       "      <td>1</td>\n",
       "      <td>1</td>\n",
       "      <td>0</td>\n",
       "      <td>0</td>\n",
       "      <td>0</td>\n",
       "      <td>0</td>\n",
       "      <td>0</td>\n",
       "      <td>1</td>\n",
       "      <td>0</td>\n",
       "      <td>0</td>\n",
       "      <td>0</td>\n",
       "      <td>0</td>\n",
       "      <td>0</td>\n",
       "    </tr>\n",
       "    <tr>\n",
       "      <th>3</th>\n",
       "      <td>0</td>\n",
       "      <td>0</td>\n",
       "      <td>0</td>\n",
       "      <td>0</td>\n",
       "      <td>0</td>\n",
       "      <td>0</td>\n",
       "      <td>0</td>\n",
       "      <td>0</td>\n",
       "      <td>0</td>\n",
       "      <td>0</td>\n",
       "      <td>1</td>\n",
       "      <td>0</td>\n",
       "      <td>0</td>\n",
       "      <td>0</td>\n",
       "      <td>0</td>\n",
       "      <td>0</td>\n",
       "      <td>0</td>\n",
       "      <td>0</td>\n",
       "      <td>0</td>\n",
       "      <td>0</td>\n",
       "    </tr>\n",
       "    <tr>\n",
       "      <th>4</th>\n",
       "      <td>0</td>\n",
       "      <td>0</td>\n",
       "      <td>0</td>\n",
       "      <td>0</td>\n",
       "      <td>0</td>\n",
       "      <td>0</td>\n",
       "      <td>0</td>\n",
       "      <td>0</td>\n",
       "      <td>0</td>\n",
       "      <td>0</td>\n",
       "      <td>0</td>\n",
       "      <td>0</td>\n",
       "      <td>0</td>\n",
       "      <td>0</td>\n",
       "      <td>0</td>\n",
       "      <td>0</td>\n",
       "      <td>0</td>\n",
       "      <td>0</td>\n",
       "      <td>0</td>\n",
       "      <td>0</td>\n",
       "    </tr>\n",
       "  </tbody>\n",
       "</table>\n",
       "</div>"
      ],
      "text/plain": [
       "   0   1   2   3   4   5   6   7   8   9   10  11  12  13  14  15  16  17  18  \\\n",
       "0   0   0   0   0   0   0   0   0   0   0   0   0   0   0   0   0   0   0   0   \n",
       "1   0   0   0   0   0   0   1   0   0   0   0   0   0   0   0   1   0   0   0   \n",
       "2   0   0   0   0   0   1   0   1   1   0   0   0   0   0   1   0   0   0   0   \n",
       "3   0   0   0   0   0   0   0   0   0   0   1   0   0   0   0   0   0   0   0   \n",
       "4   0   0   0   0   0   0   0   0   0   0   0   0   0   0   0   0   0   0   0   \n",
       "\n",
       "   19  \n",
       "0   0  \n",
       "1   0  \n",
       "2   0  \n",
       "3   0  \n",
       "4   0  "
      ]
     },
     "execution_count": 12,
     "metadata": {},
     "output_type": "execute_result"
    }
   ],
   "source": [
    "import pandas as pd\n",
    "from sklearn import metrics\n",
    "df=pd.DataFrame(m)\n",
    "df.head()\n"
   ]
  },
  {
   "cell_type": "code",
   "execution_count": 13,
   "id": "1346bf10",
   "metadata": {},
   "outputs": [
    {
     "data": {
      "text/plain": [
       "'amazing'"
      ]
     },
     "execution_count": 13,
     "metadata": {},
     "output_type": "execute_result"
    }
   ],
   "source": [
    "vec.get_feature_names()[df[0][1]]"
   ]
  },
  {
   "cell_type": "code",
   "execution_count": 14,
   "id": "f846df74",
   "metadata": {},
   "outputs": [
    {
     "data": {
      "text/plain": [
       "['amazing',\n",
       " 'areas',\n",
       " 'beautiful',\n",
       " 'come',\n",
       " 'experience',\n",
       " 'fantastic',\n",
       " 'food',\n",
       " 'great',\n",
       " 'hotel',\n",
       " 'nice',\n",
       " 'place',\n",
       " 'restaurant',\n",
       " 'room',\n",
       " 'seixo',\n",
       " 'service',\n",
       " 'staff',\n",
       " 'stay',\n",
       " 'thank',\n",
       " 'time',\n",
       " 'wonderful']"
      ]
     },
     "execution_count": 14,
     "metadata": {},
     "output_type": "execute_result"
    }
   ],
   "source": [
    "vec.get_feature_names()\n"
   ]
  },
  {
   "cell_type": "code",
   "execution_count": 15,
   "id": "17630d9c",
   "metadata": {},
   "outputs": [],
   "source": [
    "score_list=[]\n",
    "for i in range (len(df.iloc[0])):\n",
    "    for j in range (1,len(df.iloc[0])):\n",
    "        pos=(i,j)\n",
    "        score=metrics.mutual_info_score(df[i],df[j])\n",
    "        score_list.append((pos,score))\n",
    "\n",
    "score_list.sort()"
   ]
  },
  {
   "cell_type": "code",
   "execution_count": 65,
   "id": "87cef8b9",
   "metadata": {},
   "outputs": [],
   "source": [
    "c=CountVectorizer(stop_words='english')"
   ]
  },
  {
   "cell_type": "code",
   "execution_count": 20,
   "id": "b7eefb87",
   "metadata": {},
   "outputs": [
    {
     "data": {
      "text/plain": [
       "0.005470395088881837"
      ]
     },
     "execution_count": 20,
     "metadata": {},
     "output_type": "execute_result"
    }
   ],
   "source": [
    "score_list[0][1]"
   ]
  },
  {
   "cell_type": "code",
   "execution_count": 16,
   "id": "fb178e42",
   "metadata": {},
   "outputs": [
    {
     "name": "stdout",
     "output_type": "stream",
     "text": [
      "amazing areas\n",
      "amazing beautiful\n",
      "amazing come\n",
      "amazing experience\n",
      "amazing fantastic\n",
      "amazing food\n",
      "amazing great\n",
      "amazing hotel\n",
      "amazing nice\n",
      "amazing place\n",
      "amazing restaurant\n",
      "amazing room\n",
      "amazing seixo\n",
      "amazing service\n",
      "amazing staff\n",
      "amazing stay\n",
      "amazing thank\n",
      "amazing time\n",
      "amazing wonderful\n",
      "areas areas\n",
      "areas beautiful\n",
      "areas come\n",
      "areas experience\n",
      "areas fantastic\n",
      "areas food\n",
      "areas great\n",
      "areas hotel\n",
      "areas nice\n",
      "areas place\n",
      "areas restaurant\n",
      "areas room\n",
      "areas seixo\n",
      "areas service\n",
      "areas staff\n",
      "areas stay\n",
      "areas thank\n",
      "areas time\n",
      "areas wonderful\n",
      "beautiful areas\n",
      "beautiful beautiful\n",
      "beautiful come\n",
      "beautiful experience\n",
      "beautiful fantastic\n",
      "beautiful food\n",
      "beautiful great\n",
      "beautiful hotel\n",
      "beautiful nice\n",
      "beautiful place\n",
      "beautiful restaurant\n",
      "beautiful room\n"
     ]
    }
   ],
   "source": [
    "# print(score_list[0][1])\n",
    "for k in range (50):\n",
    "            print(vec.get_feature_names()[score_list[k][0][0]],end=\" \")\n",
    "            print(vec.get_feature_names()[score_list[k][0][1]],end='\\n')"
   ]
  },
  {
   "cell_type": "code",
   "execution_count": 17,
   "id": "aba39a40",
   "metadata": {},
   "outputs": [
    {
     "name": "stdout",
     "output_type": "stream",
     "text": [
      "380\n"
     ]
    }
   ],
   "source": [
    "print(len(score_list))"
   ]
  },
  {
   "cell_type": "code",
   "execution_count": 66,
   "id": "71098435",
   "metadata": {},
   "outputs": [],
   "source": [
    "matrix=c.fit(corpus)"
   ]
  },
  {
   "cell_type": "code",
   "execution_count": 67,
   "id": "1d347c62",
   "metadata": {},
   "outputs": [
    {
     "data": {
      "text/plain": [
       "{'sam': 1, 'class': 0, 'student': 2}"
      ]
     },
     "execution_count": 67,
     "metadata": {},
     "output_type": "execute_result"
    }
   ],
   "source": [
    "matrix.vocabulary_"
   ]
  },
  {
   "cell_type": "code",
   "execution_count": 68,
   "id": "d92e2360",
   "metadata": {},
   "outputs": [
    {
     "data": {
      "text/plain": [
       "['class', 'sam', 'student']"
      ]
     },
     "execution_count": 68,
     "metadata": {},
     "output_type": "execute_result"
    }
   ],
   "source": [
    "c.get_feature_names()"
   ]
  },
  {
   "cell_type": "code",
   "execution_count": 69,
   "id": "4e5b521c",
   "metadata": {},
   "outputs": [],
   "source": [
    "import pandas as pd"
   ]
  },
  {
   "cell_type": "code",
   "execution_count": 70,
   "id": "f7211373",
   "metadata": {},
   "outputs": [],
   "source": [
    "X=c.transform(corpus)"
   ]
  },
  {
   "cell_type": "code",
   "execution_count": 71,
   "id": "2c8e958b",
   "metadata": {},
   "outputs": [
    {
     "data": {
      "text/plain": [
       "<3x3 sparse matrix of type '<class 'numpy.int64'>'\n",
       "\twith 5 stored elements in Compressed Sparse Row format>"
      ]
     },
     "execution_count": 71,
     "metadata": {},
     "output_type": "execute_result"
    }
   ],
   "source": [
    "X"
   ]
  },
  {
   "cell_type": "code",
   "execution_count": 72,
   "id": "2448cabe",
   "metadata": {},
   "outputs": [
    {
     "data": {
      "text/plain": [
       "array([[0, 2, 0],\n",
       "       [1, 1, 0],\n",
       "       [0, 1, 1]])"
      ]
     },
     "execution_count": 72,
     "metadata": {},
     "output_type": "execute_result"
    }
   ],
   "source": [
    "X.toarray()"
   ]
  },
  {
   "cell_type": "code",
   "execution_count": 73,
   "id": "5a89c94d",
   "metadata": {},
   "outputs": [
    {
     "data": {
      "text/plain": [
       "['i am sam sam i', 'sam i am is class ', 'i am sam student']"
      ]
     },
     "execution_count": 73,
     "metadata": {},
     "output_type": "execute_result"
    }
   ],
   "source": [
    "corpus"
   ]
  },
  {
   "cell_type": "code",
   "execution_count": 74,
   "id": "7bb8d9cf",
   "metadata": {},
   "outputs": [
    {
     "name": "stdout",
     "output_type": "stream",
     "text": [
      "  (0, 1)\t2\n",
      "  (1, 0)\t1\n",
      "  (1, 1)\t1\n",
      "  (2, 1)\t1\n",
      "  (2, 2)\t1\n"
     ]
    }
   ],
   "source": [
    "print(X)"
   ]
  },
  {
   "cell_type": "code",
   "execution_count": 75,
   "id": "21dd1b8a",
   "metadata": {},
   "outputs": [],
   "source": [
    "df=pd.DataFrame(X.toarray(),columns=c.get_feature_names())"
   ]
  },
  {
   "cell_type": "code",
   "execution_count": 90,
   "id": "89782766",
   "metadata": {},
   "outputs": [
    {
     "data": {
      "text/html": [
       "<div>\n",
       "<style scoped>\n",
       "    .dataframe tbody tr th:only-of-type {\n",
       "        vertical-align: middle;\n",
       "    }\n",
       "\n",
       "    .dataframe tbody tr th {\n",
       "        vertical-align: top;\n",
       "    }\n",
       "\n",
       "    .dataframe thead th {\n",
       "        text-align: right;\n",
       "    }\n",
       "</style>\n",
       "<table border=\"1\" class=\"dataframe\">\n",
       "  <thead>\n",
       "    <tr style=\"text-align: right;\">\n",
       "      <th></th>\n",
       "      <th>class</th>\n",
       "      <th>sam</th>\n",
       "      <th>student</th>\n",
       "    </tr>\n",
       "  </thead>\n",
       "  <tbody>\n",
       "    <tr>\n",
       "      <th>0</th>\n",
       "      <td>0</td>\n",
       "      <td>2</td>\n",
       "      <td>0</td>\n",
       "    </tr>\n",
       "    <tr>\n",
       "      <th>1</th>\n",
       "      <td>1</td>\n",
       "      <td>1</td>\n",
       "      <td>0</td>\n",
       "    </tr>\n",
       "    <tr>\n",
       "      <th>2</th>\n",
       "      <td>0</td>\n",
       "      <td>1</td>\n",
       "      <td>1</td>\n",
       "    </tr>\n",
       "  </tbody>\n",
       "</table>\n",
       "</div>"
      ],
      "text/plain": [
       "   class  sam  student\n",
       "0      0    2        0\n",
       "1      1    1        0\n",
       "2      0    1        1"
      ]
     },
     "execution_count": 90,
     "metadata": {},
     "output_type": "execute_result"
    }
   ],
   "source": [
    "df"
   ]
  },
  {
   "cell_type": "code",
   "execution_count": 86,
   "id": "39118312",
   "metadata": {},
   "outputs": [],
   "source": [
    "from sklearn import metrics"
   ]
  },
  {
   "cell_type": "code",
   "execution_count": 97,
   "id": "931271a7",
   "metadata": {},
   "outputs": [],
   "source": [
    "temp2 = metrics.mutual_info_score(df['class'],df['sam'])"
   ]
  },
  {
   "cell_type": "code",
   "execution_count": 98,
   "id": "05a15f87",
   "metadata": {},
   "outputs": [
    {
     "data": {
      "text/plain": [
       "0.1744160479215161"
      ]
     },
     "execution_count": 98,
     "metadata": {},
     "output_type": "execute_result"
    }
   ],
   "source": [
    "temp2"
   ]
  },
  {
   "cell_type": "code",
   "execution_count": 1,
   "id": "598509dd",
   "metadata": {},
   "outputs": [],
   "source": [
    "a = \"      yo!      \"\n",
    "b = a.strip() # this will remove the white spaces that are leading and trailing"
   ]
  },
  {
   "cell_type": "code",
   "execution_count": 2,
   "id": "2d6f616c",
   "metadata": {},
   "outputs": [
    {
     "data": {
      "text/plain": [
       "'      yo!      '"
      ]
     },
     "execution_count": 2,
     "metadata": {},
     "output_type": "execute_result"
    }
   ],
   "source": [
    "a"
   ]
  },
  {
   "cell_type": "code",
   "execution_count": 3,
   "id": "373d4c20",
   "metadata": {},
   "outputs": [
    {
     "data": {
      "text/plain": [
       "'yo!'"
      ]
     },
     "execution_count": 3,
     "metadata": {},
     "output_type": "execute_result"
    }
   ],
   "source": [
    "b"
   ]
  },
  {
   "cell_type": "code",
   "execution_count": 23,
   "id": "389b95a0",
   "metadata": {},
   "outputs": [
    {
     "name": "stdout",
     "output_type": "stream",
     "text": [
      "Top 50 word pair associations are: \n"
     ]
    },
    {
     "data": {
      "text/html": [
       "<div>\n",
       "<style scoped>\n",
       "    .dataframe tbody tr th:only-of-type {\n",
       "        vertical-align: middle;\n",
       "    }\n",
       "\n",
       "    .dataframe tbody tr th {\n",
       "        vertical-align: top;\n",
       "    }\n",
       "\n",
       "    .dataframe thead th {\n",
       "        text-align: right;\n",
       "    }\n",
       "</style>\n",
       "<table border=\"1\" class=\"dataframe\">\n",
       "  <thead>\n",
       "    <tr style=\"text-align: right;\">\n",
       "      <th></th>\n",
       "      <th>0</th>\n",
       "      <th>1</th>\n",
       "    </tr>\n",
       "  </thead>\n",
       "  <tbody>\n",
       "    <tr>\n",
       "      <th>0</th>\n",
       "      <td>come</td>\n",
       "      <td>place</td>\n",
       "    </tr>\n",
       "    <tr>\n",
       "      <th>1</th>\n",
       "      <td>hotel</td>\n",
       "      <td>room</td>\n",
       "    </tr>\n",
       "    <tr>\n",
       "      <th>2</th>\n",
       "      <td>hotel</td>\n",
       "      <td>place</td>\n",
       "    </tr>\n",
       "    <tr>\n",
       "      <th>3</th>\n",
       "      <td>amazing</td>\n",
       "      <td>food</td>\n",
       "    </tr>\n",
       "    <tr>\n",
       "      <th>4</th>\n",
       "      <td>amazing</td>\n",
       "      <td>place</td>\n",
       "    </tr>\n",
       "    <tr>\n",
       "      <th>5</th>\n",
       "      <td>thank</td>\n",
       "      <td>wonderful</td>\n",
       "    </tr>\n",
       "    <tr>\n",
       "      <th>6</th>\n",
       "      <td>hotel</td>\n",
       "      <td>staff</td>\n",
       "    </tr>\n",
       "    <tr>\n",
       "      <th>7</th>\n",
       "      <td>stay</td>\n",
       "      <td>thank</td>\n",
       "    </tr>\n",
       "    <tr>\n",
       "      <th>8</th>\n",
       "      <td>food</td>\n",
       "      <td>staff</td>\n",
       "    </tr>\n",
       "    <tr>\n",
       "      <th>9</th>\n",
       "      <td>amazing</td>\n",
       "      <td>room</td>\n",
       "    </tr>\n",
       "    <tr>\n",
       "      <th>10</th>\n",
       "      <td>place</td>\n",
       "      <td>thank</td>\n",
       "    </tr>\n",
       "    <tr>\n",
       "      <th>11</th>\n",
       "      <td>amazing</td>\n",
       "      <td>hotel</td>\n",
       "    </tr>\n",
       "    <tr>\n",
       "      <th>12</th>\n",
       "      <td>come</td>\n",
       "      <td>room</td>\n",
       "    </tr>\n",
       "    <tr>\n",
       "      <th>13</th>\n",
       "      <td>beautiful</td>\n",
       "      <td>place</td>\n",
       "    </tr>\n",
       "    <tr>\n",
       "      <th>14</th>\n",
       "      <td>stay</td>\n",
       "      <td>wonderful</td>\n",
       "    </tr>\n",
       "    <tr>\n",
       "      <th>15</th>\n",
       "      <td>food</td>\n",
       "      <td>room</td>\n",
       "    </tr>\n",
       "    <tr>\n",
       "      <th>16</th>\n",
       "      <td>great</td>\n",
       "      <td>hotel</td>\n",
       "    </tr>\n",
       "    <tr>\n",
       "      <th>17</th>\n",
       "      <td>food</td>\n",
       "      <td>place</td>\n",
       "    </tr>\n",
       "    <tr>\n",
       "      <th>18</th>\n",
       "      <td>hotel</td>\n",
       "      <td>stay</td>\n",
       "    </tr>\n",
       "    <tr>\n",
       "      <th>19</th>\n",
       "      <td>experience</td>\n",
       "      <td>stay</td>\n",
       "    </tr>\n",
       "    <tr>\n",
       "      <th>20</th>\n",
       "      <td>experience</td>\n",
       "      <td>hotel</td>\n",
       "    </tr>\n",
       "    <tr>\n",
       "      <th>21</th>\n",
       "      <td>nice</td>\n",
       "      <td>room</td>\n",
       "    </tr>\n",
       "    <tr>\n",
       "      <th>22</th>\n",
       "      <td>staff</td>\n",
       "      <td>thank</td>\n",
       "    </tr>\n",
       "    <tr>\n",
       "      <th>23</th>\n",
       "      <td>amazing</td>\n",
       "      <td>come</td>\n",
       "    </tr>\n",
       "    <tr>\n",
       "      <th>24</th>\n",
       "      <td>room</td>\n",
       "      <td>staff</td>\n",
       "    </tr>\n",
       "    <tr>\n",
       "      <th>25</th>\n",
       "      <td>food</td>\n",
       "      <td>nice</td>\n",
       "    </tr>\n",
       "    <tr>\n",
       "      <th>26</th>\n",
       "      <td>hotel</td>\n",
       "      <td>time</td>\n",
       "    </tr>\n",
       "    <tr>\n",
       "      <th>27</th>\n",
       "      <td>amazing</td>\n",
       "      <td>staff</td>\n",
       "    </tr>\n",
       "    <tr>\n",
       "      <th>28</th>\n",
       "      <td>place</td>\n",
       "      <td>wonderful</td>\n",
       "    </tr>\n",
       "    <tr>\n",
       "      <th>29</th>\n",
       "      <td>food</td>\n",
       "      <td>hotel</td>\n",
       "    </tr>\n",
       "    <tr>\n",
       "      <th>30</th>\n",
       "      <td>experience</td>\n",
       "      <td>food</td>\n",
       "    </tr>\n",
       "    <tr>\n",
       "      <th>31</th>\n",
       "      <td>food</td>\n",
       "      <td>stay</td>\n",
       "    </tr>\n",
       "    <tr>\n",
       "      <th>32</th>\n",
       "      <td>hotel</td>\n",
       "      <td>thank</td>\n",
       "    </tr>\n",
       "    <tr>\n",
       "      <th>33</th>\n",
       "      <td>amazing</td>\n",
       "      <td>experience</td>\n",
       "    </tr>\n",
       "    <tr>\n",
       "      <th>34</th>\n",
       "      <td>experience</td>\n",
       "      <td>nice</td>\n",
       "    </tr>\n",
       "    <tr>\n",
       "      <th>35</th>\n",
       "      <td>staff</td>\n",
       "      <td>wonderful</td>\n",
       "    </tr>\n",
       "    <tr>\n",
       "      <th>36</th>\n",
       "      <td>hotel</td>\n",
       "      <td>nice</td>\n",
       "    </tr>\n",
       "    <tr>\n",
       "      <th>37</th>\n",
       "      <td>room</td>\n",
       "      <td>wonderful</td>\n",
       "    </tr>\n",
       "    <tr>\n",
       "      <th>38</th>\n",
       "      <td>come</td>\n",
       "      <td>hotel</td>\n",
       "    </tr>\n",
       "    <tr>\n",
       "      <th>39</th>\n",
       "      <td>experience</td>\n",
       "      <td>room</td>\n",
       "    </tr>\n",
       "    <tr>\n",
       "      <th>40</th>\n",
       "      <td>staff</td>\n",
       "      <td>stay</td>\n",
       "    </tr>\n",
       "    <tr>\n",
       "      <th>41</th>\n",
       "      <td>amazing</td>\n",
       "      <td>thank</td>\n",
       "    </tr>\n",
       "    <tr>\n",
       "      <th>42</th>\n",
       "      <td>experience</td>\n",
       "      <td>staff</td>\n",
       "    </tr>\n",
       "    <tr>\n",
       "      <th>43</th>\n",
       "      <td>place</td>\n",
       "      <td>staff</td>\n",
       "    </tr>\n",
       "    <tr>\n",
       "      <th>44</th>\n",
       "      <td>food</td>\n",
       "      <td>thank</td>\n",
       "    </tr>\n",
       "    <tr>\n",
       "      <th>45</th>\n",
       "      <td>beautiful</td>\n",
       "      <td>nice</td>\n",
       "    </tr>\n",
       "    <tr>\n",
       "      <th>46</th>\n",
       "      <td>food</td>\n",
       "      <td>great</td>\n",
       "    </tr>\n",
       "    <tr>\n",
       "      <th>47</th>\n",
       "      <td>beautiful</td>\n",
       "      <td>thank</td>\n",
       "    </tr>\n",
       "    <tr>\n",
       "      <th>48</th>\n",
       "      <td>room</td>\n",
       "      <td>stay</td>\n",
       "    </tr>\n",
       "    <tr>\n",
       "      <th>49</th>\n",
       "      <td>thank</td>\n",
       "      <td>time</td>\n",
       "    </tr>\n",
       "  </tbody>\n",
       "</table>\n",
       "</div>"
      ],
      "text/plain": [
       "             0           1\n",
       "0         come       place\n",
       "1        hotel        room\n",
       "2        hotel       place\n",
       "3      amazing        food\n",
       "4      amazing       place\n",
       "5        thank   wonderful\n",
       "6        hotel       staff\n",
       "7         stay       thank\n",
       "8         food       staff\n",
       "9      amazing        room\n",
       "10       place       thank\n",
       "11     amazing       hotel\n",
       "12        come        room\n",
       "13   beautiful       place\n",
       "14        stay   wonderful\n",
       "15        food        room\n",
       "16       great       hotel\n",
       "17        food       place\n",
       "18       hotel        stay\n",
       "19  experience        stay\n",
       "20  experience       hotel\n",
       "21        nice        room\n",
       "22       staff       thank\n",
       "23     amazing        come\n",
       "24        room       staff\n",
       "25        food        nice\n",
       "26       hotel        time\n",
       "27     amazing       staff\n",
       "28       place   wonderful\n",
       "29        food       hotel\n",
       "30  experience        food\n",
       "31        food        stay\n",
       "32       hotel       thank\n",
       "33     amazing  experience\n",
       "34  experience        nice\n",
       "35       staff   wonderful\n",
       "36       hotel        nice\n",
       "37        room   wonderful\n",
       "38        come       hotel\n",
       "39  experience        room\n",
       "40       staff        stay\n",
       "41     amazing       thank\n",
       "42  experience       staff\n",
       "43       place       staff\n",
       "44        food       thank\n",
       "45   beautiful        nice\n",
       "46        food       great\n",
       "47   beautiful       thank\n",
       "48        room        stay\n",
       "49       thank        time"
      ]
     },
     "execution_count": 23,
     "metadata": {},
     "output_type": "execute_result"
    }
   ],
   "source": [
    "from sklearn.feature_extraction.text import CountVectorizer\n",
    "from sklearn import metrics\n",
    "import numpy as np\n",
    "import pandas as pd\n",
    "\n",
    "def get_data(filename):                 #Function to open file and format data\n",
    "    data = open(filename,encoding='ISO-8859-1').read()        \n",
    "    data = data.split('\\n')             #The data set has each review in a new line hence we split with \\n\n",
    "\n",
    "    del data[0]                         #The first line in the dataset is the title \"Reviews\" sp we remove it\n",
    "    del data[-1]                        #The last line is an extra empty line so we remove it\n",
    "\n",
    "    for x in range(len(data)):                          #This iterates over the dataset\n",
    "        data[x] = data[x].replace('\"','')               #Some review are in quotations so we remove these\n",
    "        data[x] = data[x].strip().upper().lower()       #We remove any whitespaces and convert all data to lowercase\n",
    "\n",
    "    return data\n",
    "\n",
    "def get_scores(vsm):                                            #Takes in a Vectorized dataset and calculates and returns a list of scores with the associated word pairs\n",
    "    X = []\n",
    "    for i in range(len(vsm.iloc[0])):                           #Iterating for each column\n",
    "        for j in range(i+1, len(vsm.iloc[0])):                  \n",
    "            temp = (i,j)                                        #i is the first word and j is the second word, this loop will find the mutual information score of each word with each other word and we store the indices of both the words in a tuple\n",
    "            temp2 = metrics.mutual_info_score(vsm[i],vsm[j])    #Calculates the mutual information score given two vectors so we gove it the frequecy of two words in each document in the form of a vector \n",
    "            temp3 = (temp,temp2)                                #Stores the indices of the 2 words (tuple) and their MI score in another tuple\n",
    "            X.append(temp3)                                     #Each element in this list take the form of ((x,y),z) where x and y are the indices of the two words in our vectorized dataset and z is their MI score\n",
    "    \n",
    "    return X\n",
    "\n",
    "def get_dataframe(top_pairs):                                   #Takes in a integer n as a parameter and returns a dataframe having the top n associated pairs of words according to their MI scores\n",
    "    temppairs = []\n",
    "    for x in range(top_pairs):\n",
    "        temp = []\n",
    "        for y in range(2):\n",
    "            temp.append(vec.get_feature_names()[TopScores[x][0][y]])       #The data in TopScores is in the form ((x,y),z) where x and y are indices of the word pairs in the vectorized dataset vocabulary so we pass x and y to the vocab and store them in a list\n",
    "        temppairs.append(temp)                                             \n",
    "    \n",
    "    return pd.DataFrame(temppairs)\n",
    "\n",
    "\n",
    "data = get_data(\"dataset-CalheirosMoroRita-2017.csv\")\n",
    "vec = CountVectorizer(max_features = 15, stop_words='english')      #Converts the dataset into a Vector Space Model. The features have been limited to 15 for ease of computation\n",
    "output = vec.fit_transform(data)\n",
    "matrix = output.toarray()                                           \n",
    "\n",
    "datavec = pd.DataFrame(matrix)                                      #Converts the Vectorized data into a dataframe\n",
    "\n",
    "X = get_scores(datavec)                                             #Gets the MI score for each pair of words\n",
    "\n",
    "Scores = []\n",
    "for i in X:\n",
    "    Scores.append(i[1])                                             #Creates a list of just the calculated scores\n",
    "\n",
    "Y = np.argsort(Scores, axis = 0)                                    #Gets a list of indices that sort our scores in ascending order\n",
    "\n",
    "TopScores = []\n",
    "for x in range(1,len(X)):                                           #Creates a sorted list of Words pairs and scores in descending order\n",
    "    num = -x\n",
    "    TopScores.append(X[Y[num]])\n",
    "\n",
    "pairs = get_dataframe(50)\n",
    "\n",
    "print(\"Top 50 word pair associations are: \")\n",
    "pairs\n",
    "\n",
    "\n",
    "\n"
   ]
  },
  {
   "cell_type": "code",
   "execution_count": null,
   "id": "38161df4",
   "metadata": {},
   "outputs": [],
   "source": []
  }
 ],
 "metadata": {
  "kernelspec": {
   "display_name": "Python 3 (ipykernel)",
   "language": "python",
   "name": "python3"
  },
  "language_info": {
   "codemirror_mode": {
    "name": "ipython",
    "version": 3
   },
   "file_extension": ".py",
   "mimetype": "text/x-python",
   "name": "python",
   "nbconvert_exporter": "python",
   "pygments_lexer": "ipython3",
   "version": "3.9.7"
  }
 },
 "nbformat": 4,
 "nbformat_minor": 5
}
