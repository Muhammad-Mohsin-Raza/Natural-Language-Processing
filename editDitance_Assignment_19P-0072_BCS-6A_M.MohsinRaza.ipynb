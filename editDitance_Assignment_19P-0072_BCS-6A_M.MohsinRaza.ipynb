{
 "cells": [
  {
   "cell_type": "code",
   "execution_count": 3,
   "metadata": {},
   "outputs": [],
   "source": [
    "class closet_word:\n",
    "        \n",
    "    #--------Edit Distance-----------#\n",
    "    def editDistance(self,source, target):\n",
    "#         print(source,target)\n",
    "        slen = len(source)\n",
    "        tlen = len(target)\n",
    "\n",
    "        D = []\n",
    "        for i in range(slen + 1):\n",
    "            tmp = []\n",
    "            for j in range(tlen + 1):\n",
    "                tmp.append(0)\n",
    "            D.append(tmp)\n",
    "\n",
    "        for i in range(1, slen + 1):\n",
    "            D[i][0] = D[i-1][0] + 1\n",
    "        for j in range(1, tlen + 1):\n",
    "            D[0][j] = D[0][j-1] + 1\n",
    "        \n",
    "        for i in range(1, slen + 1):\n",
    "            for j in range(1, tlen + 1):\n",
    "                if source[i-1] == target[j-1]:\n",
    "                    D[i][j] = D[i-1][j-1]\n",
    "                else:\n",
    "                    D[i][j] = min(D[i-1][j] + 1,\n",
    "                    D[i][j-1] + 1,\n",
    "                    D[i-1][j-1] + 2)\n",
    "\n",
    "        return D[-1][-1]\n",
    "    \n",
    "\n",
    "    \n",
    "        \n",
    "        #-------- Process input string by user-----------#\n",
    "    def process(self,user_str):\n",
    "        city_name=['Sahiwal','Lahore','Okara','Peshawar','Karachi','Quetta','Swat','Multan','Islamabad','Mardan']\n",
    "        index=0\n",
    "        city_dist={}\n",
    "        \n",
    "        for n in city_name:\n",
    "            dis=self.editDistance(user_str,n)\n",
    "\n",
    "            if dis < len(n):\n",
    "                city_dist[index]=dis\n",
    "            index+=1\n",
    "          \n",
    "        if len(city_dist)!=0:\n",
    "            \n",
    "            closetWord_value=min(city_dist.values())\n",
    "            index_of_closet_word=list(city_dist.keys())[list(city_dist.values()).index(closetWord_value)]\n",
    "            print('Closet Word :',city_name[index_of_closet_word])\n",
    "        else:\n",
    "            print('Closet word not found ')\n"
   ]
  },
  {
   "cell_type": "code",
   "execution_count": 4,
   "metadata": {
    "scrolled": false
   },
   "outputs": [
    {
     "name": "stdout",
     "output_type": "stream",
     "text": [
      "[[0, 1, 2, 3, 4, 5, 6, 7], [1, 0, 0, 0, 0, 0, 0, 0]]\n",
      "[[0, 1, 2, 3, 4, 5, 6], [1, 0, 0, 0, 0, 0, 0]]\n",
      "[[0, 1, 2, 3, 4, 5], [1, 0, 0, 0, 0, 0]]\n",
      "[[0, 1, 2, 3, 4, 5, 6, 7, 8], [1, 0, 0, 0, 0, 0, 0, 0, 0]]\n",
      "[[0, 1, 2, 3, 4, 5, 6, 7], [1, 0, 0, 0, 0, 0, 0, 0]]\n",
      "[[0, 1, 2, 3, 4, 5, 6], [1, 0, 0, 0, 0, 0, 0]]\n",
      "[[0, 1, 2, 3, 4], [1, 0, 0, 0, 0]]\n",
      "[[0, 1, 2, 3, 4, 5, 6], [1, 0, 0, 0, 0, 0, 0]]\n",
      "[[0, 1, 2, 3, 4, 5, 6, 7, 8, 9], [1, 0, 0, 0, 0, 0, 0, 0, 0, 0]]\n",
      "[[0, 1, 2, 3, 4, 5, 6], [1, 0, 0, 0, 0, 0, 0]]\n",
      "Closet Word : Okara\n"
     ]
    }
   ],
   "source": [
    "c=closet_word()\n",
    "c.process('k')"
   ]
  },
  {
   "cell_type": "code",
   "execution_count": 11,
   "metadata": {
    "scrolled": false
   },
   "outputs": [
    {
     "name": "stdout",
     "output_type": "stream",
     "text": [
      "[0, 1, 2, 3, 4, 5, 6, 7]\n",
      "[1, 0, 1, 2, 3, 4, 5, 6]\n",
      "[2, 1, 0, 1, 2, 3, 4, 5]\n",
      "[3, 2, 1, 0, 1, 2, 3, 4]\n",
      "[4, 3, 2, 1, 0, 1, 2, 3]\n",
      "[5, 4, 3, 2, 1, 0, 1, 2]\n",
      "[6, 5, 4, 3, 2, 1, 0, 1]\n",
      "1\n"
     ]
    }
   ],
   "source": [
    "def iterative_levenshtein(s, t, costs=(1, 1, 1)):\n",
    "    rows = len(s)+1\n",
    "    cols = len(t)+1\n",
    "    deletes, inserts, substitutes = costs\n",
    "    dist = [[0 for x in range(cols)] for x in range(rows)]\n",
    "\n",
    "    for row in range(1, rows):\n",
    "        dist[row][0] = row * deletes\n",
    "\n",
    "    for col in range(1, cols):\n",
    "        dist[0][col] = col * inserts\n",
    "        \n",
    "    for col in range(1, cols):\n",
    "        for row in range(1, rows):\n",
    "            if s[row-1] == t[col-1]:\n",
    "                cost = 0\n",
    "            else:\n",
    "                cost = substitutes\n",
    "            dist[row][col] = min(dist[row-1][col] + deletes,\n",
    "                                 dist[row][col-1] + inserts,\n",
    "                                 dist[row-1][col-1] + cost)\n",
    "    for r in range(rows):\n",
    "        print(dist[r])\n",
    "\n",
    "    return dist[row][col]\n",
    "\n",
    "print(iterative_levenshtein(\"Lahore\", \"Lahoree\"))\n",
    "#"
   ]
  }
 ],
 "metadata": {
  "kernelspec": {
   "display_name": "Python 3 (ipykernel)",
   "language": "python",
   "name": "python3"
  },
  "language_info": {
   "codemirror_mode": {
    "name": "ipython",
    "version": 3
   },
   "file_extension": ".py",
   "mimetype": "text/x-python",
   "name": "python",
   "nbconvert_exporter": "python",
   "pygments_lexer": "ipython3",
   "version": "3.9.7"
  }
 },
 "nbformat": 4,
 "nbformat_minor": 4
}
