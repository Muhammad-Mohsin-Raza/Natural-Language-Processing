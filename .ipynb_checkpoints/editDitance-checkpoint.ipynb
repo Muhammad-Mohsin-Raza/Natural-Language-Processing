{
 "cells": [
  {
   "cell_type": "code",
   "execution_count": 1,
   "metadata": {},
   "outputs": [],
   "source": [
    "def display(D):\n",
    "    for row in D:\n",
    "        print(row)"
   ]
  },
  {
   "cell_type": "code",
   "execution_count": 10,
   "metadata": {},
   "outputs": [],
   "source": [
    "def editDistance(source, target):\n",
    "    slen = len(source)\n",
    "    tlen = len(target)\n",
    "    \n",
    "    D = []\n",
    "    for i in range(slen + 1):\n",
    "        tmp = []\n",
    "        for j in range(tlen + 1):\n",
    "            tmp.append(0)\n",
    "        D.append(tmp)\n",
    "        \n",
    "    for i in range(1, slen + 1):\n",
    "        D[i][0] = D[i-1][0] + 1\n",
    "    for j in range(1, tlen + 1):\n",
    "        D[0][j] = D[0][j-1] + 1\n",
    "    print(D)\n",
    "    print('\\n')\n",
    "    for i in range(1, slen + 1):\n",
    "        for j in range(1, tlen + 1):\n",
    "            if source[i-1] == target[j-1]:\n",
    "                D[i][j] = D[i-1][j-1]\n",
    "            else:\n",
    "                D[i][j] = min(D[i-1][j] + 1,\n",
    "                D[i][j-1] + 1,\n",
    "                D[i-1][j-1] + 2)\n",
    "    display(D)"
   ]
  },
  {
   "cell_type": "code",
   "execution_count": 11,
   "metadata": {},
   "outputs": [
    {
     "name": "stdout",
     "output_type": "stream",
     "text": [
      "[[0, 1, 2, 3, 4, 5, 6, 7, 8, 9], [1, 0, 0, 0, 0, 0, 0, 0, 0, 0], [2, 0, 0, 0, 0, 0, 0, 0, 0, 0], [3, 0, 0, 0, 0, 0, 0, 0, 0, 0], [4, 0, 0, 0, 0, 0, 0, 0, 0, 0], [5, 0, 0, 0, 0, 0, 0, 0, 0, 0], [6, 0, 0, 0, 0, 0, 0, 0, 0, 0], [7, 0, 0, 0, 0, 0, 0, 0, 0, 0], [8, 0, 0, 0, 0, 0, 0, 0, 0, 0], [9, 0, 0, 0, 0, 0, 0, 0, 0, 0]]\n",
      "\n",
      "\n",
      "[0, 1, 2, 3, 4, 5, 6, 7, 8, 9]\n",
      "[1, 2, 3, 4, 5, 6, 7, 6, 7, 8]\n",
      "[2, 3, 4, 5, 6, 7, 8, 7, 8, 7]\n",
      "[3, 4, 5, 6, 7, 8, 7, 8, 9, 8]\n",
      "[4, 3, 4, 5, 6, 7, 8, 9, 10, 9]\n",
      "[5, 4, 5, 6, 7, 8, 9, 10, 11, 10]\n",
      "[6, 5, 6, 7, 8, 9, 8, 9, 10, 11]\n",
      "[7, 6, 7, 8, 9, 10, 9, 8, 9, 10]\n",
      "[8, 7, 8, 9, 10, 11, 10, 9, 8, 9]\n",
      "[9, 8, 9, 10, 11, 12, 11, 10, 9, 8]\n"
     ]
    }
   ],
   "source": [
    "editDistance(\"intention\", \"execution\")"
   ]
  },
  {
   "cell_type": "code",
   "execution_count": 4,
   "metadata": {},
   "outputs": [],
   "source": [
    "def recursiveEditDistance(source, target, slen, tlen):\n",
    "    if slen == 0:\n",
    "        return tlen\n",
    "    if tlen == 0:\n",
    "        return slen\n",
    "    if source[slen - 1] == target[tlen - 1]:\n",
    "        return recursiveEditDistance(source, target, slen - 1, tlen - 1)\n",
    "    return min(recursiveEditDistance(source, target, slen, tlen - 1) + 1,\n",
    "              recursiveEditDistance(source, target, slen - 1, tlen) + 1,\n",
    "                recursiveEditDistance(source, target, slen - 1, tlen - 1) + 2)\n",
    "    "
   ]
  },
  {
   "cell_type": "code",
   "execution_count": 5,
   "metadata": {},
   "outputs": [
    {
     "data": {
      "text/plain": [
       "8"
      ]
     },
     "execution_count": 5,
     "metadata": {},
     "output_type": "execute_result"
    }
   ],
   "source": [
    "recursiveEditDistance(\"intention\", \"execution\", len(\"intention\"), len(\"execution\"))"
   ]
  },
  {
   "cell_type": "code",
   "execution_count": null,
   "metadata": {},
   "outputs": [],
   "source": []
  }
 ],
 "metadata": {
  "kernelspec": {
   "display_name": "Python 3 (ipykernel)",
   "language": "python",
   "name": "python3"
  },
  "language_info": {
   "codemirror_mode": {
    "name": "ipython",
    "version": 3
   },
   "file_extension": ".py",
   "mimetype": "text/x-python",
   "name": "python",
   "nbconvert_exporter": "python",
   "pygments_lexer": "ipython3",
   "version": "3.9.7"
  }
 },
 "nbformat": 4,
 "nbformat_minor": 4
}
