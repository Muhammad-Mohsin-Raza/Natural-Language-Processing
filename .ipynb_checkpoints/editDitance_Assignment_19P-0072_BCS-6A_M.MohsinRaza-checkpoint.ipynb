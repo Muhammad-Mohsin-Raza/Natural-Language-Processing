{
 "cells": [
  {
   "cell_type": "code",
   "execution_count": 4,
   "metadata": {},
   "outputs": [],
   "source": [
    "class closet_word:\n",
    "        \n",
    "    #--------Edit Distance-----------#\n",
    "    def editDistance(self,source, target):\n",
    "#         print(source,target)\n",
    "        slen = len(source)\n",
    "        tlen = len(target)\n",
    "\n",
    "        D = []\n",
    "        for i in range(slen + 1):\n",
    "            tmp = []\n",
    "            for j in range(tlen + 1):\n",
    "                tmp.append(0)\n",
    "            D.append(tmp)\n",
    "\n",
    "        for i in range(1, slen + 1):\n",
    "            D[i][0] = D[i-1][0] + 1\n",
    "        for j in range(1, tlen + 1):\n",
    "            D[0][j] = D[0][j-1] + 1\n",
    "\n",
    "        for i in range(1, slen + 1):\n",
    "            for j in range(1, tlen + 1):\n",
    "                if source[i-1] == target[j-1]:\n",
    "                    D[i][j] = D[i-1][j-1]\n",
    "                else:\n",
    "                    D[i][j] = min(D[i-1][j] + 1,\n",
    "                    D[i][j-1] + 1,\n",
    "                    D[i-1][j-1] + 2)\n",
    "\n",
    "        return D[-1][-1]\n",
    "    \n",
    "\n",
    "    \n",
    "        \n",
    "        #-------- Process input string by user-----------#\n",
    "    def process(self,user_str):\n",
    "        city_name=['Sahiwal','Lahore','Okara','Peshawar','Karachi','Quetta','Swat','Multan','Islamabad','Mardan']\n",
    "        index=0\n",
    "        city_dist={}\n",
    "        \n",
    "        for n in city_name:\n",
    "            dis=self.editDistance(user_str,n)\n",
    "\n",
    "            if dis < len(n):\n",
    "                city_dist[index]=dis\n",
    "            index+=1\n",
    "          \n",
    "        if len(city_dist)!=0:\n",
    "            \n",
    "            closetWord_value=min(city_dist.values())\n",
    "            index_of_closet_word=list(city_dist.keys())[list(city_dist.values()).index(closetWord_value)]\n",
    "            print('Closet Word :',city_name[index_of_closet_word])\n",
    "        else:\n",
    "            print('Closet word not found ')\n"
   ]
  },
  {
   "cell_type": "code",
   "execution_count": 9,
   "metadata": {
    "scrolled": false
   },
   "outputs": [
    {
     "name": "stdout",
     "output_type": "stream",
     "text": [
      "Closet Word : Okara\n"
     ]
    }
   ],
   "source": [
    "c=closet_word()\n",
    "c.process('k')"
   ]
  },
  {
   "cell_type": "code",
   "execution_count": null,
   "metadata": {},
   "outputs": [],
   "source": []
  }
 ],
 "metadata": {
  "kernelspec": {
   "display_name": "Python 3 (ipykernel)",
   "language": "python",
   "name": "python3"
  },
  "language_info": {
   "codemirror_mode": {
    "name": "ipython",
    "version": 3
   },
   "file_extension": ".py",
   "mimetype": "text/x-python",
   "name": "python",
   "nbconvert_exporter": "python",
   "pygments_lexer": "ipython3",
   "version": "3.9.7"
  }
 },
 "nbformat": 4,
 "nbformat_minor": 4
}
