{
 "cells": [
  {
   "cell_type": "code",
   "execution_count": null,
   "id": "005f4d81",
   "metadata": {},
   "outputs": [],
   "source": [
    "corpus=['bread bread bread bread bread bread bread bread bread ','milk milk milk milk milk milk milk ',\n",
    "       'chair chair chair chair chair chair chair chair','milk bread']"
   ]
  },
  {
   "cell_type": "code",
   "execution_count": null,
   "id": "32c7e21a",
   "metadata": {},
   "outputs": [],
   "source": [
    "X=vec.fit_transform(corpus)"
   ]
  },
  {
   "cell_type": "code",
   "execution_count": 3,
   "id": "a70dfbd0",
   "metadata": {},
   "outputs": [],
   "source": [
    "from sklearn.decomposition import LatentDirichletAllocation"
   ]
  },
  {
   "cell_type": "code",
   "execution_count": null,
   "id": "fc013dee",
   "metadata": {},
   "outputs": [],
   "source": [
    "#lda.components phie matric topic to word distribution"
   ]
  }
 ],
 "metadata": {
  "kernelspec": {
   "display_name": "Python 3 (ipykernel)",
   "language": "python",
   "name": "python3"
  },
  "language_info": {
   "codemirror_mode": {
    "name": "ipython",
    "version": 3
   },
   "file_extension": ".py",
   "mimetype": "text/x-python",
   "name": "python",
   "nbconvert_exporter": "python",
   "pygments_lexer": "ipython3",
   "version": "3.9.7"
  }
 },
 "nbformat": 4,
 "nbformat_minor": 5
}
