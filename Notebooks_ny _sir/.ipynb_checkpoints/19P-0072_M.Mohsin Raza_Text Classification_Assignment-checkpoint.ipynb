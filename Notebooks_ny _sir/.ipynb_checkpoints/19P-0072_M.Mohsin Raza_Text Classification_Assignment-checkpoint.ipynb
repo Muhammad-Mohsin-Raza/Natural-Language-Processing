{
 "cells": [
  {
   "cell_type": "code",
   "execution_count": 174,
   "metadata": {},
   "outputs": [],
   "source": [
    "data = open(\"Movies_TV.txt\").read()\n",
    "data = data.split('\\n')\n",
    "data.remove(data[0])\n",
    "data.remove(data[-1])\n",
    "data.remove(data[-1])"
   ]
  },
  {
   "cell_type": "code",
   "execution_count": 178,
   "metadata": {},
   "outputs": [
    {
     "data": {
      "text/plain": [
       "'Movies_TV\\tPOS\\t5\\tmy boy love this film . sometime my youngest get scared of Captain Hook . the story be great , and I think little boy can really connect to it . beautiful , fun music as well .'"
      ]
     },
     "execution_count": 178,
     "metadata": {},
     "output_type": "execute_result"
    }
   ],
   "source": [
    "data[0]"
   ]
  },
  {
   "cell_type": "code",
   "execution_count": 179,
   "metadata": {},
   "outputs": [],
   "source": [
    "reviews = []\n",
    "y = []\n",
    "for item in data:\n",
    "    _,_, label, text = item.split('\\t')\n",
    "    reviews.append(text.strip())\n",
    "    y.append(label.strip())"
   ]
  },
  {
   "cell_type": "code",
   "execution_count": 180,
   "metadata": {},
   "outputs": [
    {
     "data": {
      "text/plain": [
       "'my boy love this film . sometime my youngest get scared of Captain Hook . the story be great , and I think little boy can really connect to it . beautiful , fun music as well .'"
      ]
     },
     "execution_count": 180,
     "metadata": {},
     "output_type": "execute_result"
    }
   ],
   "source": [
    "reviews[0]"
   ]
  },
  {
   "cell_type": "code",
   "execution_count": 181,
   "metadata": {},
   "outputs": [
    {
     "data": {
      "text/plain": [
       "'5'"
      ]
     },
     "execution_count": 181,
     "metadata": {},
     "output_type": "execute_result"
    }
   ],
   "source": [
    "y[0]"
   ]
  },
  {
   "cell_type": "code",
   "execution_count": 303,
   "metadata": {},
   "outputs": [],
   "source": [
    "from sklearn.feature_extraction.text import TfidfVectorizer\n",
    "vec = TfidfVectorizer(max_df = 500, min_df = 10, ngram_range = (2,3), max_features = 150,stop_words='english')\n",
    "X = vec.fit_transform(reviews)\n",
    "X = X.toarray()"
   ]
  },
  {
   "cell_type": "code",
   "execution_count": 304,
   "metadata": {},
   "outputs": [
    {
     "data": {
      "text/plain": [
       "150"
      ]
     },
     "execution_count": 304,
     "metadata": {},
     "output_type": "execute_result"
    }
   ],
   "source": [
    "len(vec.vocabulary_)"
   ]
  },
  {
   "cell_type": "code",
   "execution_count": 339,
   "metadata": {
    "scrolled": true
   },
   "outputs": [
    {
     "data": {
      "text/plain": [
       "['action movie',\n",
       " 'age steel',\n",
       " 'animated film',\n",
       " 'army ghosts',\n",
       " 'audio commentary',\n",
       " 'bad guy',\n",
       " 'beauty beast',\n",
       " 'best movie',\n",
       " 'billie piper',\n",
       " 'blu ray',\n",
       " 'bobby driscoll',\n",
       " 'bonus feature',\n",
       " 'boy grow',\n",
       " 'buy dvd',\n",
       " 'buy movie',\n",
       " 'captain hook',\n",
       " 'christmas invasion',\n",
       " 'christopher eccleston',\n",
       " 'cinderella ii',\n",
       " 'cinderella iii',\n",
       " 'classic disney',\n",
       " 'david tennant',\n",
       " 'disc platinum',\n",
       " 'disney animated',\n",
       " 'disney classic',\n",
       " 'disney film',\n",
       " 'disney movie',\n",
       " 'disney peter',\n",
       " 'disney peter pan',\n",
       " 'disney sequel',\n",
       " 'disney version',\n",
       " 'doctor confidential',\n",
       " 'doctor david',\n",
       " 'doctor david tennant',\n",
       " 'doctor fan',\n",
       " 'doctor lrb',\n",
       " 'doctor rose',\n",
       " 'doctor series',\n",
       " 'dvd release',\n",
       " 'dvd set',\n",
       " 'edge seat',\n",
       " 'enemy state',\n",
       " 'enjoy movie',\n",
       " 'fairy godmother',\n",
       " 'fall love',\n",
       " 'favorite disney',\n",
       " 'feel like',\n",
       " 'gene hackman',\n",
       " 'gene hackman rrb',\n",
       " 'girl fireplace',\n",
       " 'glass slipper',\n",
       " 'good movie',\n",
       " 'good thing',\n",
       " 'great movie',\n",
       " 'great story',\n",
       " 'hackman rrb',\n",
       " 'high tech',\n",
       " 'highly recommend',\n",
       " 'idiot lantern',\n",
       " 'impossible planet',\n",
       " 'jane smith',\n",
       " 'jason lee',\n",
       " 'jerry bruckheimer',\n",
       " 'john michael',\n",
       " 'jon voight',\n",
       " 'just like',\n",
       " 'like movie',\n",
       " 'little girl',\n",
       " 'little mermaid',\n",
       " 'long time',\n",
       " 'look like',\n",
       " 'lose boy',\n",
       " 'love monsters',\n",
       " 'love movie',\n",
       " 'lrb like',\n",
       " 'lrb rrb',\n",
       " 'lrb smith',\n",
       " 'magic wand',\n",
       " 'make movie',\n",
       " 'make peter',\n",
       " 'make peter pan',\n",
       " 'mary martin',\n",
       " 'movie child',\n",
       " 'movie good',\n",
       " 'movie great',\n",
       " 'movie like',\n",
       " 'movie make',\n",
       " 'movie really',\n",
       " 'movie think',\n",
       " 'movie time',\n",
       " 'music video',\n",
       " 'national security',\n",
       " 'native american',\n",
       " 'new doctor',\n",
       " 'new earth',\n",
       " 'new series',\n",
       " 'old friend',\n",
       " 'original cinderella',\n",
       " 'peter pan',\n",
       " 'platinum edition',\n",
       " 'prince charming',\n",
       " 'queen victoria',\n",
       " 'really enjoy',\n",
       " 'really like',\n",
       " 'recommend movie',\n",
       " 'red man',\n",
       " 'rise cybermen',\n",
       " 'rose tyler',\n",
       " 'russell davies',\n",
       " 'sarah jane',\n",
       " 'sarah jane smith',\n",
       " 'satan pit',\n",
       " 'school reunion',\n",
       " 'sci fi',\n",
       " 'sci fus',\n",
       " 'season doctor',\n",
       " 'season new',\n",
       " 'second season',\n",
       " 'second series',\n",
       " 'series doctor',\n",
       " 'smith gene',\n",
       " 'smith gene hackman',\n",
       " 'smith great',\n",
       " 'smith play',\n",
       " 'smith rrb',\n",
       " 'snow white',\n",
       " 'special edition',\n",
       " 'special effect',\n",
       " 'special feature',\n",
       " 'story line',\n",
       " 'story peter',\n",
       " 'story peter pan',\n",
       " 'tennant doctor',\n",
       " 'think movie',\n",
       " 'tinker bell',\n",
       " 'tom baker',\n",
       " 'tony scott',\n",
       " 'tooth claw',\n",
       " 'true love',\n",
       " 'twist time',\n",
       " 'version peter',\n",
       " 'version peter pan',\n",
       " 'video diary',\n",
       " 'walt disney',\n",
       " 'watch movie',\n",
       " 'watch time',\n",
       " 'wendy john',\n",
       " 'wendy john michael',\n",
       " 'year ago',\n",
       " 'year old']"
      ]
     },
     "execution_count": 339,
     "metadata": {},
     "output_type": "execute_result"
    }
   ],
   "source": [
    "vec.get_feature_names()"
   ]
  },
  {
   "cell_type": "code",
   "execution_count": 327,
   "metadata": {},
   "outputs": [
    {
     "data": {
      "text/plain": [
       "1000"
      ]
     },
     "execution_count": 327,
     "metadata": {},
     "output_type": "execute_result"
    }
   ],
   "source": [
    "len(reviews)"
   ]
  },
  {
   "cell_type": "code",
   "execution_count": 326,
   "metadata": {},
   "outputs": [
    {
     "data": {
      "text/plain": [
       "1000"
      ]
     },
     "execution_count": 326,
     "metadata": {},
     "output_type": "execute_result"
    }
   ],
   "source": [
    "len(X)"
   ]
  },
  {
   "cell_type": "code",
   "execution_count": 308,
   "metadata": {},
   "outputs": [],
   "source": [
    "from sklearn.model_selection import train_test_split\n",
    "trainX, testX, trainY, testY = train_test_split(X, y, shuffle = True, train_size=0.7)"
   ]
  },
  {
   "cell_type": "code",
   "execution_count": 309,
   "metadata": {},
   "outputs": [
    {
     "data": {
      "text/plain": [
       "(700, 300)"
      ]
     },
     "execution_count": 309,
     "metadata": {},
     "output_type": "execute_result"
    }
   ],
   "source": [
    "len(trainX), len(testX)"
   ]
  },
  {
   "cell_type": "code",
   "execution_count": 310,
   "metadata": {},
   "outputs": [],
   "source": [
    "from sklearn.linear_model import SGDClassifier"
   ]
  },
  {
   "cell_type": "code",
   "execution_count": 311,
   "metadata": {},
   "outputs": [],
   "source": [
    "lc = SGDClassifier()"
   ]
  },
  {
   "cell_type": "code",
   "execution_count": 330,
   "metadata": {},
   "outputs": [
    {
     "data": {
      "text/plain": [
       "SGDClassifier()"
      ]
     },
     "execution_count": 330,
     "metadata": {},
     "output_type": "execute_result"
    }
   ],
   "source": [
    "lc.fit(trainX, trainY)"
   ]
  },
  {
   "cell_type": "code",
   "execution_count": 331,
   "metadata": {},
   "outputs": [],
   "source": [
    "pred_y_lc = lc.predict(testX)"
   ]
  },
  {
   "cell_type": "code",
   "execution_count": 332,
   "metadata": {},
   "outputs": [],
   "source": [
    "from sklearn.metrics import accuracy_score\n",
    "lc_acc = accuracy_score(testY, pred_y_lc)"
   ]
  },
  {
   "cell_type": "code",
   "execution_count": 333,
   "metadata": {},
   "outputs": [
    {
     "name": "stdout",
     "output_type": "stream",
     "text": [
      "Linear Classifier:  0.6133333333333333\n"
     ]
    }
   ],
   "source": [
    "print(\"Linear Classifier: \", lc_acc)\n"
   ]
  },
  {
   "cell_type": "code",
   "execution_count": 334,
   "metadata": {},
   "outputs": [],
   "source": [
    "from sklearn.metrics import confusion_matrix"
   ]
  },
  {
   "cell_type": "code",
   "execution_count": 335,
   "metadata": {
    "scrolled": true
   },
   "outputs": [
    {
     "data": {
      "text/plain": [
       "array([[  2,   1,   1,   1,  15],\n",
       "       [  0,   1,   2,   1,   8],\n",
       "       [  3,   0,   1,   2,  14],\n",
       "       [  1,   0,   0,  16,  48],\n",
       "       [  7,   2,   1,   9, 164]])"
      ]
     },
     "execution_count": 335,
     "metadata": {},
     "output_type": "execute_result"
    }
   ],
   "source": [
    "confusion_matrix(testY, pred_y_lc)"
   ]
  },
  {
   "cell_type": "code",
   "execution_count": 336,
   "metadata": {
    "scrolled": true
   },
   "outputs": [
    {
     "name": "stdout",
     "output_type": "stream",
     "text": [
      "['5', '5', '4', '2', '4', '5', '4', '1', '5', '5', '5', '5', '5', '5', '5', '5', '5', '4', '5', '5', '5', '5', '5', '5', '4', '5', '5', '5', '5', '5', '4', '5', '4', '4', '2', '5', '5', '3', '5', '5', '1', '5', '5', '5', '5', '4', '5', '1', '3', '5', '3', '3', '1', '5', '5', '4', '5', '5', '3', '4', '5', '1', '1', '4', '4', '5', '4', '4', '4', '5', '5', '5', '5', '1', '4', '5', '4', '5', '3', '5', '3', '5', '5', '5', '5', '5', '5', '5', '4', '5', '5', '5', '5', '5', '4', '5', '4', '5', '4', '3', '5', '5', '5', '5', '4', '5', '3', '5', '2', '5', '5', '5', '5', '1', '5', '3', '4', '3', '4', '4', '5', '5', '4', '4', '3', '5', '5', '4', '5', '4', '5', '1', '5', '5', '1', '2', '4', '4', '5', '4', '5', '5', '3', '1', '5', '5', '5', '2', '5', '5', '5', '5', '5', '4', '5', '5', '5', '4', '5', '2', '1', '5', '5', '4', '5', '4', '1', '5', '5', '5', '5', '5', '4', '5', '3', '5', '4', '5', '5', '5', '3', '4', '1', '5', '4', '5', '1', '4', '5', '3', '5', '5', '5', '5', '5', '5', '5', '4', '5', '5', '5', '5', '4', '4', '5', '5', '4', '5', '5', '5', '5', '5', '4', '2', '5', '5', '5', '5', '5', '3', '5', '4', '5', '4', '1', '2', '4', '5', '5', '5', '5', '5', '5', '3', '4', '5', '5', '5', '5', '5', '1', '4', '1', '4', '5', '4', '5', '5', '4', '5', '5', '5', '5', '5', '5', '5', '1', '5', '3', '5', '1', '5', '4', '4', '5', '4', '5', '5', '5', '5', '5', '2', '5', '5', '5', '2', '4', '3', '5', '4', '5', '5', '5', '4', '5', '5', '4', '5', '5', '5', '2', '4', '5', '4', '4', '2', '5', '5', '5', '5']\n"
     ]
    }
   ],
   "source": [
    "print(testY)"
   ]
  },
  {
   "cell_type": "code",
   "execution_count": 337,
   "metadata": {},
   "outputs": [],
   "source": [
    "from sklearn.metrics import classification_report"
   ]
  },
  {
   "cell_type": "code",
   "execution_count": 338,
   "metadata": {},
   "outputs": [
    {
     "name": "stdout",
     "output_type": "stream",
     "text": [
      "              precision    recall  f1-score   support\n",
      "\n",
      "           1       0.10      0.15      0.12        13\n",
      "           2       0.08      0.25      0.12         4\n",
      "           3       0.05      0.20      0.08         5\n",
      "           4       0.25      0.55      0.34        29\n",
      "           5       0.90      0.66      0.76       249\n",
      "\n",
      "    accuracy                           0.61       300\n",
      "   macro avg       0.28      0.36      0.29       300\n",
      "weighted avg       0.77      0.61      0.67       300\n",
      "\n"
     ]
    }
   ],
   "source": [
    "print(classification_report(pred_y_lc,testY))"
   ]
  }
 ],
 "metadata": {
  "kernelspec": {
   "display_name": "Python 3 (ipykernel)",
   "language": "python",
   "name": "python3"
  },
  "language_info": {
   "codemirror_mode": {
    "name": "ipython",
    "version": 3
   },
   "file_extension": ".py",
   "mimetype": "text/x-python",
   "name": "python",
   "nbconvert_exporter": "python",
   "pygments_lexer": "ipython3",
   "version": "3.9.7"
  }
 },
 "nbformat": 4,
 "nbformat_minor": 4
}
