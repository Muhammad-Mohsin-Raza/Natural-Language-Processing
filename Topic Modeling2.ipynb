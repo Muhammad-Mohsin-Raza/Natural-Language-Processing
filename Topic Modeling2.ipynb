{
 "cells": [
  {
   "cell_type": "code",
   "execution_count": 42,
   "metadata": {},
   "outputs": [],
   "source": [
    "corpus = open('Datasets/Movies_TV.txt').read()\n",
    "corpus = corpus.split('\\n')\n",
    "corpus.remove(corpus[0])\n",
    "corpus.remove(corpus[-1])\n",
    "corpus.remove(corpus[-1])"
   ]
  },
  {
   "cell_type": "code",
   "execution_count": 45,
   "metadata": {},
   "outputs": [],
   "source": [
    "reviews = []\n",
    "for item in corpus:\n",
    "    _, _, _, review = item.split('\\t')\n",
    "    reviews.append(review)"
   ]
  },
  {
   "cell_type": "code",
   "execution_count": null,
   "metadata": {},
   "outputs": [],
   "source": []
  },
  {
   "cell_type": "code",
   "execution_count": 22,
   "metadata": {},
   "outputs": [],
   "source": [
    "from sklearn.feature_extraction.text import CountVectorizer\n",
    "vec = CountVectorizer()"
   ]
  },
  {
   "cell_type": "code",
   "execution_count": 47,
   "metadata": {},
   "outputs": [],
   "source": [
    "X = vec.fit_transform(reviews)"
   ]
  },
  {
   "cell_type": "code",
   "execution_count": 48,
   "metadata": {},
   "outputs": [
    {
     "data": {
      "text/plain": [
       "array([[0, 0, 0, ..., 0, 0, 0],\n",
       "       [0, 0, 0, ..., 0, 0, 0],\n",
       "       [0, 0, 0, ..., 0, 0, 0],\n",
       "       ...,\n",
       "       [0, 0, 0, ..., 0, 0, 0],\n",
       "       [0, 0, 0, ..., 0, 0, 0],\n",
       "       [0, 0, 0, ..., 0, 0, 0]])"
      ]
     },
     "execution_count": 48,
     "metadata": {},
     "output_type": "execute_result"
    }
   ],
   "source": [
    "X.toarray()"
   ]
  },
  {
   "cell_type": "code",
   "execution_count": 50,
   "metadata": {},
   "outputs": [
    {
     "data": {
      "text/plain": [
       "7800"
      ]
     },
     "execution_count": 50,
     "metadata": {},
     "output_type": "execute_result"
    }
   ],
   "source": [
    "features = vec.get_feature_names()\n",
    "len(features)"
   ]
  },
  {
   "cell_type": "code",
   "execution_count": 28,
   "metadata": {},
   "outputs": [
    {
     "data": {
      "text/plain": [
       "{'bread': 0, 'milk': 2, 'chair': 1}"
      ]
     },
     "execution_count": 28,
     "metadata": {},
     "output_type": "execute_result"
    }
   ],
   "source": [
    "vec.vocabulary_"
   ]
  },
  {
   "cell_type": "code",
   "execution_count": 51,
   "metadata": {},
   "outputs": [],
   "source": [
    "from sklearn.decomposition import LatentDirichletAllocation\n",
    "lda = LatentDirichletAllocation(n_components = 10)"
   ]
  },
  {
   "cell_type": "code",
   "execution_count": 52,
   "metadata": {},
   "outputs": [
    {
     "data": {
      "text/plain": [
       "LatentDirichletAllocation()"
      ]
     },
     "execution_count": 52,
     "metadata": {},
     "output_type": "execute_result"
    }
   ],
   "source": [
    "lda.fit(X)"
   ]
  },
  {
   "cell_type": "code",
   "execution_count": 53,
   "metadata": {},
   "outputs": [
    {
     "data": {
      "text/plain": [
       "array([[0.1       , 0.1       , 0.1       , ..., 0.1       , 0.1       ,\n",
       "        0.1       ],\n",
       "       [0.1       , 0.1       , 0.1       , ..., 0.1       , 0.1       ,\n",
       "        0.1       ],\n",
       "       [0.1       , 1.09995925, 0.10000106, ..., 0.10001118, 0.1       ,\n",
       "        0.1       ],\n",
       "       ...,\n",
       "       [0.10002495, 0.1       , 0.10000378, ..., 0.10000051, 0.10000161,\n",
       "        0.1       ],\n",
       "       [0.82831564, 0.1       , 0.1       , ..., 0.1       , 0.1       ,\n",
       "        0.1       ],\n",
       "       [0.1       , 0.10004075, 0.1       , ..., 2.25918391, 0.1       ,\n",
       "        0.1       ]])"
      ]
     },
     "execution_count": 53,
     "metadata": {},
     "output_type": "execute_result"
    }
   ],
   "source": [
    "lda.components_"
   ]
  },
  {
   "cell_type": "code",
   "execution_count": 34,
   "metadata": {},
   "outputs": [
    {
     "data": {
      "text/plain": [
       "['bread', 'chair', 'milk']"
      ]
     },
     "execution_count": 34,
     "metadata": {},
     "output_type": "execute_result"
    }
   ],
   "source": [
    "features"
   ]
  },
  {
   "cell_type": "code",
   "execution_count": 55,
   "metadata": {},
   "outputs": [
    {
     "name": "stdout",
     "output_type": "stream",
     "text": [
      "Topic ID:  0\n",
      "Word IDs:  [4216 7017  537 5199 2530 7555 5689  143  740 5679]\n",
      "Words:  ['manner', 'timely', 'arrive', 'poorly', 'execute', 'weak', 'replace', '80', 'beat', 'rental']\n",
      "Word Prob:  [2.1000219891452976, 1.892249241537115, 1.7490735069496341, 1.1000060813727206, 1.100002946472211, 1.1000003751717864, 1.0999994918533877, 1.0999978969837736, 1.0999974794910257, 1.099995773081603]\n",
      "Topic ID:  1\n",
      "Word IDs:  [1338 2324 6215  458  825  918 4447 1122 5411 5521]\n",
      "Words:  ['classic', 'emotion', 'simple', 'antagonist', 'bippity', 'boppity', 'mom', 'care', 'pull', 'realistic']\n",
      "Word Prob:  [3.6066479977702355, 3.5387074703085033, 3.465778543505798, 3.0999380819634363, 2.9892861105188877, 2.9892859540657644, 2.770598928719212, 2.7167698050613693, 2.334167525967934, 2.1295565773925484]\n",
      "Topic ID:  2\n",
      "Word IDs:  [ 735 6909  426 4744 3766 7041 3255 3542 6945 4671]\n",
      "Words:  ['be', 'the', 'and', 'of', 'it', 'to', 'he', 'in', 'this', 'not']\n",
      "Word Prob:  [1328.218083537121, 1215.36441481406, 586.5195477158616, 492.9300010440303, 483.467623980929, 474.7345096318604, 368.196096885099, 337.17467100328963, 290.3945906465834, 270.61606139818264]\n",
      "Topic ID:  3\n",
      "Word IDs:  [6909  426 4744  735 7041 3542 3766 2837 1064 5889]\n",
      "Words:  ['the', 'and', 'of', 'be', 'to', 'in', 'it', 'for', 'by', 'rrb']\n",
      "Word Prob:  [236.33351498779538, 231.30661893312953, 166.02380268688069, 124.53607642104768, 99.48327005722838, 91.3437448233488, 57.9145589559738, 48.7123777576973, 46.26117936343131, 45.532873565159825]\n",
      "Topic ID:  4\n",
      "Word IDs:  [6909  735  426 3766 7041 6142 1299 4671 6945 3542]\n",
      "Words:  ['the', 'be', 'and', 'it', 'to', 'she', 'cinderella', 'not', 'this', 'in']\n",
      "Word Prob:  [931.4321066928678, 786.7110573757578, 522.5613085054572, 472.9476814895549, 436.26543633630166, 394.9049463253909, 367.78470972799266, 232.70773295060974, 227.79519917713182, 214.28797697476844]\n",
      "Topic ID:  5\n",
      "Word IDs:  [6909  735  426 4744 5074 7041 4943 2051 3542 6906]\n",
      "Words:  ['the', 'be', 'and', 'of', 'peter', 'to', 'pan', 'disney', 'in', 'that']\n",
      "Word Prob:  [1267.1546532618183, 871.2578180216359, 642.9945450953694, 586.711681793934, 493.29952909967426, 479.0118075010179, 426.0754873805306, 420.8980668656186, 258.6027844107928, 224.1359099787939]\n",
      "Topic ID:  6\n",
      "Word IDs:  [6157 4613 2375 5300 5422 6134 4650 3325 7032 3768]\n",
      "Words:  ['shipping', 'netflix', 'english', 'price', 'purchase', 'shape', 'non', 'high', 'tip', 'item']\n",
      "Word Prob:  [5.099993690458597, 2.8601543112866437, 2.6799434270984968, 2.4176254991187855, 2.2375756683643, 2.100128243321975, 2.100045417440798, 2.100031174711098, 2.0999803943126114, 1.779772558666325]\n",
      "Topic ID:  7\n",
      "Word IDs:  [ 735 6909 6945 4501  426 3766 4744 7776 7041 3249]\n",
      "Words:  ['be', 'the', 'this', 'movie', 'and', 'it', 'of', 'you', 'to', 'have']\n",
      "Word Prob:  [1234.9048534470176, 847.8582501283133, 716.9139792659719, 711.3635289576009, 677.1824270839285, 638.4233976113188, 442.51694118450825, 400.5084151883713, 345.00582715782247, 329.6267636826963]\n",
      "Topic ID:  8\n",
      "Word IDs:  [6909 7041  735  426 4744 6906 6945 3542  552 4671]\n",
      "Words:  ['the', 'to', 'be', 'and', 'of', 'that', 'this', 'in', 'as', 'not']\n",
      "Word Prob:  [280.979758915893, 255.41058768690345, 226.27837922162772, 137.29403052125207, 133.00487057512606, 88.73676021022794, 79.75300118907391, 69.61346180129374, 60.944176216886426, 58.77524477280546]\n",
      "Topic ID:  9\n",
      "Word IDs:  [6909  735 4744  426 7041 3542 2102 3249 6906  552]\n",
      "Words:  ['the', 'be', 'of', 'and', 'to', 'in', 'doctor', 'have', 'that', 'as']\n",
      "Word Prob:  [3404.5772902478006, 1776.7937206311321, 1219.659642504149, 1196.8415097595891, 912.7885501179967, 700.0229809792652, 626.0999846408498, 483.7757669950208, 461.4396071681952, 411.1881551792174]\n"
     ]
    }
   ],
   "source": [
    "for tid, topic in enumerate(lda.components_):\n",
    "    print('Topic ID: ', tid)\n",
    "    print('Word IDs: ', topic.argsort()[::-1][:10])\n",
    "    print('Words: ', [features[i] for i in topic.argsort()[::-1][:10]])\n",
    "    print('Word Prob: ', [topic[i] for i in topic.argsort()[::-1][:10]])"
   ]
  },
  {
   "cell_type": "code",
   "execution_count": null,
   "metadata": {},
   "outputs": [],
   "source": []
  }
 ],
 "metadata": {
  "kernelspec": {
   "display_name": "Python 3 (ipykernel)",
   "language": "python",
   "name": "python3"
  },
  "language_info": {
   "codemirror_mode": {
    "name": "ipython",
    "version": 3
   },
   "file_extension": ".py",
   "mimetype": "text/x-python",
   "name": "python",
   "nbconvert_exporter": "python",
   "pygments_lexer": "ipython3",
   "version": "3.9.7"
  }
 },
 "nbformat": 4,
 "nbformat_minor": 4
}
